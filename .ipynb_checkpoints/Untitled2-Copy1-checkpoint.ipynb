{
 "cells": [
  {
   "cell_type": "code",
   "execution_count": 1,
   "id": "be8411f0",
   "metadata": {},
   "outputs": [
    {
     "name": "stdout",
     "output_type": "stream",
     "text": [
      "Looking in indexes: https://pypi.org/simple, https://pip.repos.neuron.amazonaws.com\n",
      "Collecting pydot\n",
      "  Downloading pydot-1.4.2-py2.py3-none-any.whl (21 kB)\n",
      "Requirement already satisfied: pyparsing>=2.1.4 in /home/ec2-user/anaconda3/envs/tensorflow2_p38/lib/python3.8/site-packages (from pydot) (3.0.6)\n",
      "Installing collected packages: pydot\n",
      "Successfully installed pydot-1.4.2\n",
      "\u001b[33mWARNING: You are using pip version 22.0.4; however, version 22.3.1 is available.\n",
      "You should consider upgrading via the '/home/ec2-user/anaconda3/envs/tensorflow2_p38/bin/python -m pip install --upgrade pip' command.\u001b[0m\u001b[33m\n",
      "\u001b[0m"
     ]
    }
   ],
   "source": [
    "!pip install pydot"
   ]
  },
  {
   "cell_type": "code",
   "execution_count": 2,
   "id": "5671d01a",
   "metadata": {},
   "outputs": [
    {
     "name": "stderr",
     "output_type": "stream",
     "text": [
      "Matplotlib is building the font cache; this may take a moment.\n"
     ]
    }
   ],
   "source": [
    "import pydot\n",
    "import tensorflow as tf\n",
    "from tensorflow.keras import layers, models\n",
    "import keras\n",
    "from keras.models import Sequential\n",
    "from keras.layers import Dense, Dropout, Flatten\n",
    "from keras.layers import Conv2D, MaxPooling2D\n",
    "#from keras.utils import to_categorical\n",
    "from keras.preprocessing import image\n",
    "import numpy as np\n",
    "import pandas as pd\n",
    "import matplotlib.pyplot as plt\n",
    "from sklearn.metrics import  confusion_matrix, classification_report\n",
    "from sklearn.model_selection import train_test_split"
   ]
  },
  {
   "cell_type": "code",
   "execution_count": 3,
   "id": "f74f5c9c",
   "metadata": {},
   "outputs": [
    {
     "name": "stdout",
     "output_type": "stream",
     "text": [
      "\u001b[?1l\u001b>p:\u001b[5;18H0B\u001b[5;30H0B\u001b[5;42H0B\u001b[24;80H\u001b[1;74H30\u001b[4;42H0\u001b[24;80H\u001b[1;75H1\u001b[4;30H8\u001b[24;80Hal\u001b[3;28Hused\u001b[3;40Hfree\t shared  buff/cache   available\u001b[4;41H89\u001b[24;80H\u001b[1;75H2\u001b[4;41H90\u001b[24;80H\u001b[4;41H89\u001b[24;80H\u001b[1;75H3\u001b[4;41H90\u001b[24;80H\u001b[4;41H89\u001b[24;80H\u001b[1;75H4\u001b[24;80H\u001b[1;75H5\u001b[24;80H\u001b[1;75H6\u001b[24;80H\u001b[1;75H7\u001b[24;80H\u001b[1;75H8\u001b[24;80H\u001b[24;1H\u001b[2J\u001b[?47l\u001b8"
     ]
    },
    {
     "data": {
      "text/plain": [
       "0"
      ]
     },
     "execution_count": 3,
     "metadata": {},
     "output_type": "execute_result"
    }
   ],
   "source": [
    "import os\n",
    "os.environ['CUDA_VISIBLE_DEVICES'] = \"0\"\n",
    "os.system('watch -n 0.1 free -mh')"
   ]
  },
  {
   "cell_type": "code",
   "execution_count": 10,
   "id": "329810d9",
   "metadata": {},
   "outputs": [],
   "source": [
    "import keras.metrics\n",
    "model = keras.models.Sequential([\n",
    "    keras.layers.Conv2D(filters=16,kernel_size=(3,3), strides=(2,2), input_shape=(32,32,3), data_format='channels_last'),\n",
    "    keras.layers.LeakyReLU(alpha=0.1),\n",
    "    keras.layers.BatchNormalization(),\n",
    "    keras.layers.MaxPool2D(pool_size=(3,3), strides=(2,2),data_format='channels_last'),\n",
    "    keras.layers.Conv2D(filters=32, kernel_size=(3,3), strides=(1,1),  padding=\"same\",data_format='channels_last'),\n",
    "    keras.layers.LeakyReLU(alpha=0.1),\n",
    "    keras.layers.BatchNormalization(),\n",
    "    keras.layers.MaxPool2D(pool_size=(3,3), strides=(2,2),data_format='channels_last'),\n",
    "    keras.layers.Conv2D(filters=64, kernel_size=(3,3), strides=(1,1),  padding=\"same\",data_format='channels_last'),\n",
    "    keras.layers.LeakyReLU(alpha=0.1),\n",
    "    keras.layers.BatchNormalization(),\n",
    "   # keras.layers.MaxPool2D(pool_size=(3,3), strides=(2,2),data_format='channels_last'),\n",
    "    keras.layers.Conv2D(filters=128, kernel_size=(3,3), strides=(1,1),  padding=\"same\",data_format='channels_last'),\n",
    "    keras.layers.LeakyReLU(alpha=0.1),\n",
    "    keras.layers.BatchNormalization(),\n",
    "  #  keras.layers.MaxPool2D(pool_size=(3,3), strides=(2,2),data_format='channels_last'),\n",
    "    keras.layers.Conv2D(filters=256, kernel_size=(3,3), strides=(1,1),  padding=\"same\",data_format='channels_last'),\n",
    "    keras.layers.LeakyReLU(alpha=0.1),\n",
    "    keras.layers.BatchNormalization(),\n",
    "  #  keras.layers.MaxPool2D(pool_size=(3,3), strides=(2,2),data_format='channels_last'),\n",
    "    keras.layers.Conv2D(filters=512, kernel_size=(3,3), strides=(1,1), padding=\"same\",data_format='channels_last'),\n",
    "    keras.layers.LeakyReLU(alpha=0.1),\n",
    "    keras.layers.BatchNormalization(),\n",
    "  #  keras.layers.MaxPool2D(pool_size=(3,3), strides=(2,2),data_format='channels_last'),\n",
    "    keras.layers.Conv2D(filters=1024, kernel_size=(3,3), strides=(1,1), padding=\"same\",data_format='channels_last'),\n",
    "    keras.layers.LeakyReLU(alpha=0.1),\n",
    "    keras.layers.BatchNormalization(),\n",
    "    keras.layers.Flatten(),\n",
    "    keras.layers.Dense(1024, activation='relu'),#kernel_regularizer=keras.regularizers.l2(0.01)),\n",
    "    keras.layers.Dropout(0.5),\n",
    "    keras.layers.Dense(1024, activation='relu'),#kernel_regularizer=keras.regularizers.l2(0.01)),\n",
    "    keras.layers.Dropout(0.5),\n",
    "    keras.layers.Dense(7, activation='softmax')\n",
    "])"
   ]
  },
  {
   "cell_type": "code",
   "execution_count": null,
   "id": "07d738b8",
   "metadata": {},
   "outputs": [],
   "source": [
    "import keras.metrics\n",
    "model = keras.models.Sequential([\n",
    "    #keras.layers.Conv2D(filters=32,kernel_size=(3,3), strides=(2,2), activation='relu', input_shape=(32,32,3), data_format='channels_last'),\n",
    "    keras.layers.Conv2D(filters=32,kernel_size=(4,4), strides=(2,2), input_shape=(256,256,3), data_format='channels_last'),\n",
    "    keras.layers.LeakyReLU(alpha=0.1),\n",
    "    keras.layers.BatchNormalization(),\n",
    "    keras.layers.MaxPool2D(pool_size=(4,4), strides=(2,2),data_format='channels_last'),\n",
    "    #keras.layers.MaxPool2D((2,2)),\n",
    "    #keras.layers.Conv2D(filters=64, kernel_size=(3,3), strides=(1,1), activation='relu', padding=\"same\",data_format='channels_last'),\n",
    "    keras.layers.Conv2D(filters=64, kernel_size=(4,4), strides=(1,1), padding=\"same\",data_format='channels_last'),\n",
    "    #keras.layers.Conv2D(filters=64,kernel_size=(3,3), activation='relu',padding='same'),\n",
    "    keras.layers.LeakyReLU(alpha=0.1),\n",
    "    keras.layers.BatchNormalization(),\n",
    "    keras.layers.MaxPool2D(pool_size=(4,4), strides=(2,2),data_format='channels_last'),\n",
    "    #keras.layers.MaxPool2D((2,2)),\n",
    "   # keras.layers.Conv2D(filters=96, kernel_size=(3,3), strides=(1,1), activation='relu', padding=\"same\",data_format='channels_last'),\n",
    "    keras.layers.Conv2D(filters=128, kernel_size=(4,4), strides=(1,1),  padding=\"same\",data_format='channels_last'),\n",
    "    #keras.layers.Conv2D(filters=128,kernel_size=(3,3), activation='relu',padding='same'),\n",
    "    keras.layers.LeakyReLU(alpha=0.1),\n",
    "    keras.layers.BatchNormalization(),\n",
    "    #keras.layers.Conv2D(filters=96, kernel_size=(1,1), strides=(1,1), activation='relu', padding=\"same\",data_format='channels_last'),\n",
    "    keras.layers.Conv2D(filters=256, kernel_size=(3,3), strides=(1,1),  padding=\"same\",data_format='channels_last'),\n",
    "    #keras.layers.Conv2D(filters=256,kernel_size=(3,3), activation='relu',padding='same'),\n",
    "    keras.layers.LeakyReLU(alpha=0.1),\n",
    "    keras.layers.BatchNormalization(),\n",
    "    #keras.layers.Conv2D(filters=128, kernel_size=(1,1), strides=(1,1), activation='relu', padding=\"same\",data_format='channels_last'),\n",
    "   # keras.layers.Conv2D(filters=512,kernel_size=(3,3), activation='relu',padding='same'),\n",
    "    keras.layers.Conv2D(filters=1024, kernel_size=(3,3), strides=(1,1), padding=\"same\",data_format='channels_last'),\n",
    "    keras.layers.LeakyReLU(alpha=0.1),\n",
    "    keras.layers.BatchNormalization(),\n",
    "   # keras.layers.MaxPool2D((2,2)),\n",
    "    keras.layers.MaxPool2D(pool_size=(3,3), strides=(2,2),data_format='channels_last'),\n",
    "    keras.layers.Flatten(),\n",
    "    keras.layers.Dense(1024, activation='relu'),#kernel_regularizer=keras.regularizers.l2(0.01)),\n",
    "    keras.layers.Dropout(0.5),\n",
    "    keras.layers.Dense(1024, activation='relu'),#kernel_regularizer=keras.regularizers.l2(0.01)),\n",
    "    keras.layers.Dropout(0.5),\n",
    "    keras.layers.Dense(7, activation='softmax')\n",
    "])"
   ]
  },
  {
   "cell_type": "code",
   "execution_count": 6,
   "id": "558f8828",
   "metadata": {},
   "outputs": [],
   "source": [
    "from keras.utils.vis_utils import model_to_dot\n",
    "tf.keras.utils.plot_model(model, to_file = \"Model_TB_32_32___L.pdf\",  show_shapes=True,  rankdir='TB',expand_nested= True, show_layer_names=True)"
   ]
  },
  {
   "cell_type": "code",
   "execution_count": null,
   "id": "5d3eb1e1",
   "metadata": {},
   "outputs": [],
   "source": [
    "base_model = tf.keras.applications.EfficientNetB7(weights='imagenet', include_top=False)  # or weig\n",
    "tf.keras.utils.plot_model(base_model, to_file=\"image1.pdf\", dpi=120)"
   ]
  },
  {
   "cell_type": "code",
   "execution_count": null,
   "id": "71db50aa",
   "metadata": {},
   "outputs": [],
   "source": []
  }
 ],
 "metadata": {
  "kernelspec": {
   "display_name": "conda_tensorflow2_p38",
   "language": "python",
   "name": "conda_tensorflow2_p38"
  },
  "language_info": {
   "codemirror_mode": {
    "name": "ipython",
    "version": 3
   },
   "file_extension": ".py",
   "mimetype": "text/x-python",
   "name": "python",
   "nbconvert_exporter": "python",
   "pygments_lexer": "ipython3",
   "version": "3.8.12"
  }
 },
 "nbformat": 4,
 "nbformat_minor": 5
}
