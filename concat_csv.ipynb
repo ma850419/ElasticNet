{
 "cells": [
  {
   "cell_type": "code",
   "execution_count": null,
   "id": "4a7aa639",
   "metadata": {},
   "outputs": [],
   "source": [
    "import torch\n",
    "from torch.utils.data import DataLoader, TensorDataset"
   ]
  },
  {
   "cell_type": "code",
   "execution_count": null,
   "id": "ff1def88",
   "metadata": {},
   "outputs": [],
   "source": [
    "import torch.nn as nn, torch.nn.functional as F, torch.optim as optim\n",
    "from torch.autograd import Variable"
   ]
  },
  {
   "cell_type": "code",
   "execution_count": null,
   "id": "69169fef",
   "metadata": {},
   "outputs": [],
   "source": [
    "import pandas as pd,numpy as np,matplotlib.pyplot as plt, os"
   ]
  },
  {
   "cell_type": "code",
   "execution_count": null,
   "id": "8ae0d4d4",
   "metadata": {},
   "outputs": [],
   "source": [
    "from sklearn.model_selection import train_test_split\n",
    "from sklearn.metrics import confusion_matrix, accuracy_score\n",
    "%matplotlib inline"
   ]
  },
  {
   "cell_type": "code",
   "execution_count": null,
   "id": "dcdbd740",
   "metadata": {},
   "outputs": [],
   "source": [
    "if torch.cuda.is_available():\n",
    "    device = torch.device('cuda')\n",
    "    print('cuda')\n",
    "else:\n",
    "    device = torch.device('cpu')\n",
    "    print('cpu')"
   ]
  },
  {
   "cell_type": "code",
   "execution_count": null,
   "id": "bafa7d1e",
   "metadata": {},
   "outputs": [],
   "source": [
    "import os\n",
    "os.chdir(\"c:/output60/train\")\n",
    "input_folder_path=os.getcwd()\n",
    "all= input_folder_path.split('/')\n",
    "print(all)"
   ]
  },
  {
   "cell_type": "code",
   "execution_count": null,
   "id": "e236107a",
   "metadata": {},
   "outputs": [],
   "source": [
    "filename= input_folder_path+\"/\" +'combined_all_1_L_32_32.csv'\n",
    "print(filename)\n",
    "train_df = pd.read_csv(filename)"
   ]
  },
  {
   "cell_type": "code",
   "execution_count": null,
   "id": "f9ee40b8",
   "metadata": {},
   "outputs": [],
   "source": [
    "train_labels1 = train_df['Labels'].values"
   ]
  },
  {
   "cell_type": "code",
   "execution_count": null,
   "id": "faa712c9",
   "metadata": {},
   "outputs": [],
   "source": [
    "print(train_labels1.shape[0])"
   ]
  },
  {
   "cell_type": "code",
   "execution_count": null,
   "id": "19048ccd",
   "metadata": {},
   "outputs": [],
   "source": [
    "train_images = (train_df.iloc[:,1:].values).astype('float32')/10000\n",
    "\n",
    "#x_train = train_images.astype('float32') / 255.\n",
    "#x_train = np.reshape(x_train, (185, 64, 64, 3)) \n",
    "#print(x_train.shape)\n",
    "print(train_images.shape)\n",
    "train_images = train_images.reshape(1050,32,32,3)\n",
    "print(train_images.shape)\n",
    "train_labels = train_labels1.reshape(1050,32,1,1)\n",
    "print(train_labels.shape)"
   ]
  },
  {
   "cell_type": "code",
   "execution_count": null,
   "id": "eb48cadc",
   "metadata": {},
   "outputs": [],
   "source": [
    "x_train, x_test, y_train, y_test = train_test_split(train_images,train_labels,random_state=2020,test_size=0.5)\n",
    "print(x_train.shape,y_train.shape )\n",
    "print(x_test.shape,y_test.shape)"
   ]
  },
  {
   "cell_type": "code",
   "execution_count": null,
   "id": "3db3ef42",
   "metadata": {},
   "outputs": [],
   "source": [
    "train_images, val_images, train_labels, val_labels = train_test_split( train_images, train_labels ,random_state=2020,test_size=0.2)"
   ]
  },
  {
   "cell_type": "code",
   "execution_count": null,
   "id": "582a8ef2",
   "metadata": {},
   "outputs": [],
   "source": [
    "#print(int(val_images.shape[0]/64))\n",
    "#train_images = train_images.reshape(148,64,64,3)\n",
    "#val_images = val_images.reshape(37,64,64, 3)\n",
    "print(val_images.shape)"
   ]
  },
  {
   "cell_type": "code",
   "execution_count": null,
   "id": "a0861084",
   "metadata": {},
   "outputs": [],
   "source": [
    "for i in range(0, 10):\n",
    "    #plt.subplot(32,32,i)\n",
    "    plt.imshow(train_images[i].reshape(32,32,3), cmap=plt.get_cmap('gray'))\n",
    "    plt.title(train_labels[i])\n",
    "    "
   ]
  },
  {
   "cell_type": "code",
   "execution_count": null,
   "id": "403e1944",
   "metadata": {},
   "outputs": [],
   "source": [
    "train_images_tensor = torch.tensor(train_images)/255.0\n",
    "#train_images_tensor = train_images_tensor.view(-1,64,64,3)\n",
    "train_labels_tensor = torch.tensor(train_labels)\n",
    "#train_labels_tensor = train_labels_tensor.view(-1,64,1,1)\n",
    "print(train_images_tensor.shape)"
   ]
  },
  {
   "cell_type": "code",
   "execution_count": null,
   "id": "746e2183",
   "metadata": {},
   "outputs": [],
   "source": [
    "train_tensor = TensorDataset(train_images_tensor, train_labels_tensor)"
   ]
  },
  {
   "cell_type": "code",
   "execution_count": null,
   "id": "de15b841",
   "metadata": {},
   "outputs": [],
   "source": [
    "val_images_tensor = torch.tensor(val_images)/255.0\n",
    "#val_images_tensor = val_images_tensor.view(-1,64,64,3)\n",
    "val_labels_tensor = torch.tensor(val_labels)\n",
    "#val_labels_tensor = val_labels_tensor.view(-1,64,1,1)"
   ]
  },
  {
   "cell_type": "code",
   "execution_count": null,
   "id": "7590e947",
   "metadata": {},
   "outputs": [],
   "source": [
    "#autoencoder.compile(optimizer='adam', loss='binary_crossentropy')\n",
    "os.environ['CUDA_VISIBLE_DEVICES'] = \"0\""
   ]
  },
  {
   "cell_type": "code",
   "execution_count": null,
   "id": "9a934f8d",
   "metadata": {},
   "outputs": [],
   "source": [
    "#Connect the units\n"
   ]
  },
  {
   "cell_type": "markdown",
   "id": "5a718e39",
   "metadata": {},
   "source": []
  },
  {
   "cell_type": "code",
   "execution_count": null,
   "id": "d19cefc0",
   "metadata": {},
   "outputs": [],
   "source": [
    "# USE THIS for conversion and concatination ----this is the correct one-----\n",
    "import rioxarray\n",
    "import numpy as gfg\n",
    "import numpy as np\n",
    "import matplotlib.image as img\n",
    "import pandas as pd\n",
    "import os\n",
    "import glob\n",
    "from os.path import exists\n",
    "from pathlib import Path\n",
    "from numpy import *\n",
    "BASE_DIR = 'c:/output110/'\n",
    "train_folder = BASE_DIR+'train/'\n",
    "labels = os.listdir(train_folder)\n",
    "mylabels=[ 'no carbon', 'very low','low', 'moderate','high','very high']#[ 'no carbon', 'very low', 'low', 'moderate','high', 'very high']\n",
    "i=0\n",
    "for names in labels:\n",
    "    i=mylabels.index(names)\n",
    "    subdir = train_folder + names +\"/\"\n",
    "    os.chdir(subdir)\n",
    "    files_in_train=sorted(os.listdir(subdir))\n",
    "   # print(files_in_train)   \n",
    "    i+=1\n",
    "    print(i)\n",
    "   # print(names,\"=\",i)\n",
    "    for files in files_in_train:\n",
    "        names1=files.split('.')\n",
    "        fln=subdir+names1[0]+\".csv\"\n",
    "        filexist=exists(fln)\n",
    "        if(not filexist):\n",
    "           # imageMat = img.imread(files)\n",
    "            ds =  rioxarray.open_rasterio(files)\n",
    "            ds=ds.transpose()\n",
    "            imageMat = ds.to_numpy()\n",
    "            print('I am in roxirio ',imageMat.shape)\n",
    "       # print(\"Image shape:\",imageMat.shape)\n",
    "        # if image is colored (RGB)\n",
    "            if(imageMat.shape[2] == 3):\n",
    "  # reshape it from 3D matrice to 2D matrice\n",
    "                imageMat_reshape = imageMat.reshape(imageMat.shape[0],  -1)\n",
    "                print('I am in reshape ',imageMat_reshape.shape)\n",
    "        \n",
    "          #  print(\"Reshaping to 2D array:\",imageMat_reshape.shape)\n",
    "        #    print(imageMat_reshape)\n",
    "           # np.insert(imageMat_reshape,0,i,axis=1)\n",
    "                X0 = np.ones((64,1))*i\n",
    "                imageMat_reshape = np.hstack((X0,imageMat_reshape))\n",
    "                where_are_NaNs = isnan(imageMat_reshape)\n",
    "                print(where_are_NaNs)\n",
    "                imageMat_reshape[where_are_NaNs]=0\n",
    "                #imageMat_reshape[np.isnan(imageMat_reshape)] = 0\n",
    "          #  print(\"after adding: \",names, imageMat_reshape.shape)\n",
    " \n",
    "    # if image is grayscale\n",
    "            else:\n",
    "  # remain as it is\n",
    "                imageMat_reshape = imageMat\n",
    "            mat_df = pd.DataFrame(imageMat_reshape)\n",
    "            filenamejpg = names1[0] + \".csv\"\n",
    "            mat_df.to_csv(filenamejpg,header = None,index = None)\n",
    "    csvfiles = os.path.join(subdir, \"*.csv\")\n",
    "   # os.chdir(subdir)\n",
    "    #csvfiles = Path(os.getcwd()).glob('*.csv')\n",
    "    csvfiles = glob.glob(csvfiles)\n",
    "   # print(csvfiles)\n",
    "    li = []\n",
    "    for filename in csvfiles:\n",
    "        df = pd.read_csv(filename, index_col=None, header=None)\n",
    "        li.append(df)\n",
    "    #df = pd.concat(map(pd.read_csv, csvfiles), ignore_index=True  )\n",
    "    comb_np_array = np.vstack(li)\n",
    "    print('total concat ',comb_np_array.shape) \n",
    "    df = pd.DataFrame(comb_np_array)\n",
    "  #  df = pd.concat(li,  axis=0, ignore_index=True )\n",
    "    #df = pd.concat([pd.read_csv(f,header = 0).assign(filename=f.name) for f in csvfiles], axis = 0, ignore_index=True)\n",
    "    filenameall = train_folder+\"all\"+\"_\"+ names + \".csv\"\n",
    "    df.to_csv(filenameall,header = None,index = None)\n",
    "os.chdir(train_folder)\n",
    "csvfiles1 = Path(os.getcwd()).glob('*.csv')\n",
    "df = pd.concat([pd.read_csv(f,header = None).assign(filename=f.name) for f in csvfiles1],  ignore_index=True)\n",
    "filenameall = \"combined_all\"+ \".csv\"\n",
    "df.to_csv(filenameall,header = None,index = None)"
   ]
  },
  {
   "cell_type": "code",
   "execution_count": null,
   "id": "ad39dcd4",
   "metadata": {},
   "outputs": [],
   "source": []
  }
 ],
 "metadata": {
  "kernelspec": {
   "display_name": "Python 3 (ipykernel)",
   "language": "python",
   "name": "python3"
  },
  "language_info": {
   "codemirror_mode": {
    "name": "ipython",
    "version": 3
   },
   "file_extension": ".py",
   "mimetype": "text/x-python",
   "name": "python",
   "nbconvert_exporter": "python",
   "pygments_lexer": "ipython3",
   "version": "3.9.13"
  }
 },
 "nbformat": 4,
 "nbformat_minor": 5
}
